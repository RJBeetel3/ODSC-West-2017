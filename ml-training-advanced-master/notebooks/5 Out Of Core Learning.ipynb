{
 "cells": [
  {
   "cell_type": "markdown",
   "metadata": {},
   "source": [
    "# Out of Core Learning"
   ]
  },
  {
   "cell_type": "code",
   "execution_count": null,
   "metadata": {
    "collapsed": false
   },
   "outputs": [],
   "source": [
    "# write out some toy data\n",
    "from sklearn.datasets import load_digits\n",
    "import pickle\n",
    "\n",
    "digits = load_digits()\n",
    "\n",
    "X, y = digits.data, digits.target\n",
    "\n",
    "for i in range(10):\n",
    "    pickle.dump((X[i::10], y[i::10]), open(\"data/batch_%02d.pickle\" % i, \"wb\"), -1)"
   ]
  },
  {
   "cell_type": "code",
   "execution_count": null,
   "metadata": {
    "collapsed": false
   },
   "outputs": [],
   "source": [
    "from sklearn.linear_model import SGDClassifier\n"
   ]
  },
  {
   "cell_type": "code",
   "execution_count": null,
   "metadata": {
    "collapsed": false
   },
   "outputs": [],
   "source": [
    "sgd = SGDClassifier(max_iter=100)\n",
    "\n",
    "for i in range(9):\n",
    "    X_batch, y_batch = pickle.load(open(\"data/batch_%02d.pickle\" % i, 'rb'))\n",
    "    sgd.partial_fit(X_batch, y_batch, classes=range(10))"
   ]
  },
  {
   "cell_type": "code",
   "execution_count": null,
   "metadata": {
    "collapsed": false
   },
   "outputs": [],
   "source": [
    "X_test, y_test = pickle.load(open(\"data/batch_09.pickle\", 'rb'))\n",
    "\n",
    "sgd.score(X_test, y_test)"
   ]
  },
  {
   "cell_type": "markdown",
   "metadata": {},
   "source": [
    "Kernel Approximations\n",
    "======================="
   ]
  },
  {
   "cell_type": "code",
   "execution_count": null,
   "metadata": {
    "collapsed": false
   },
   "outputs": [],
   "source": [
    "from sklearn.kernel_approximation import RBFSampler\n",
    "\n",
    "sgd = SGDClassifier(max_iter=100)\n",
    "kernel_approximation = RBFSampler(gamma=.001, n_components=400)\n",
    "\n",
    "for i in range(9):\n",
    "    X_batch, y_batch = pickle.load(open(\"data/batch_%02d.pickle\" % i, 'rb'))\n",
    "    if i == 0:\n",
    "        kernel_approximation.fit(X_batch)\n",
    "    X_transformed = kernel_approximation.transform(X_batch)\n",
    "    sgd.partial_fit(X_transformed, y_batch, classes=range(10))"
   ]
  },
  {
   "cell_type": "code",
   "execution_count": null,
   "metadata": {
    "collapsed": false
   },
   "outputs": [],
   "source": [
    "X_test, y_test = pickle.load(open(\"data/batch_09.pickle\", 'rb'))\n",
    "\n",
    "sgd.score(kernel_approximation.transform(X_test), y_test)"
   ]
  },
  {
   "cell_type": "markdown",
   "metadata": {},
   "source": [
    "# Hashing Vectorizer"
   ]
  },
  {
   "cell_type": "markdown",
   "metadata": {},
   "source": [
    "# Exercise\n",
    "Compare the speed and accuracy of ``LogisticRegression``, ``LinearSVC`` and ``SGDClassifier`` on the bank campaign and adult datasets. Try ``LogisticRegression(solver='sag')``."
   ]
  }
 ],
 "metadata": {
  "kernelspec": {
   "display_name": "Python [default]",
   "language": "python",
   "name": "python3"
  },
  "language_info": {
   "codemirror_mode": {
    "name": "ipython",
    "version": 3
   },
   "file_extension": ".py",
   "mimetype": "text/x-python",
   "name": "python",
   "nbconvert_exporter": "python",
   "pygments_lexer": "ipython3",
   "version": "3.6.1"
  }
 },
 "nbformat": 4,
 "nbformat_minor": 2
}
